{
  "cells": [
    {
      "cell_type": "markdown",
      "metadata": {
        "id": "view-in-github",
        "colab_type": "text"
      },
      "source": [
        "<a href=\"https://colab.research.google.com/github/listguy/ML-Course-ipynb/blob/main/Short_HW1_207748013.ipynb\" target=\"_parent\"><img src=\"https://colab.research.google.com/assets/colab-badge.svg\" alt=\"Open In Colab\"/></a>"
      ]
    },
    {
      "cell_type": "markdown",
      "metadata": {
        "id": "uLW7BK5P2aom"
      },
      "source": [
        "# Short HW1 - Preparing for the course\n",
        "### Useful python libraries, Probability, and Linear algebera\n",
        "\n",
        "## Instructions\n",
        "\n",
        "### General\n",
        "\n",
        "*   **First, don't panic!**\n",
        "    * This assignment seems longer than it actually is.\n",
        "    * In the first part, you are mostly required to run *existing* code and complete short python commands here and there.\n",
        "    * In the two other parts you need to answer overall 4 analytic questions.\n",
        "    * **Note**: The other 3 *short* assignments will be shorter and will *not* require programming.\n",
        "\n",
        "*   **Individually or in pairs?** Individually only.\n",
        "*   **Where to ask?** In the [Piazza forum](https://piazza.com/technion.ac.il/winter2024/236756).\n",
        "*   **How to submit?** In the webcourse.\n",
        "*   **What to submit?** A pdf file with the completed jupyter notebook (including the code, plots and other outputs) and the answers to the probability/algebra questions (Hebrew or English are both fine).  \n",
        "Or two separate pdf files in a zip file. All submitted files should contain **your ID number** in their names.\n",
        "*   **When to submit?** Sunday 28.01.2024 at 23:59.\n",
        "\n",
        "### Specific\n",
        "\n",
        "*  First part: get familiar with popular python libraries useful for machine learning and data science. We will use these libraries heavily throughout the major programming assignments.\n",
        "   *  You should read the instructions and run the code blocks sequentially.  \n",
        "   In $10$ places you are reqired to complete missing python commands or answer short questions (look for the **TODO** comments, or notations like **(T3)** etc.). Try to understand the flow of this document and the code you run.\n",
        "   * Start by loading the provided jupyter notebook file (*Short_HW1.ipynb*) to [Google Colab](https://colab.research.google.com/), which is a very convenient online tool for running python scripts combined with text, visual plots, and more.\n",
        "   * Alternatively, you can [install jupyter](https://jupyter.org/install) locally on your computer and run the provided notebook there.\n",
        "* Second and third parts: questions on probability and linear algebra to refresh your memory and prepare for the rest of this course.  \n",
        "The questions are mostly analytic but also require completing and running simple code blocks in the jupyter notebook.\n",
        "   * Forgot your linear algebra? Try watching [Essence of LA](https://www.youtube.com/playlist?list=PLZHQObOWTQDPD3MizzM2xVFitgF8hE_ab) or reading [The Matrix Cookbook](http://www2.imm.dtu.dk/pubdb/views/edoc_download.php/3274/pdf/imm3274.pdf).\n",
        "   * Forgot your probability? Try reading [Probability Theory Review for Machine Learning](https://see.stanford.edu/materials/aimlcs229/cs229-prob.pdf).\n",
        "      * Correction: In 3.2 it says that $X\\perp Y\\Longrightarrow\\text{Var}(X+Y)=\\text{Var}(X)\\text{Var}(Y)$ but it should say $X\\perp Y\\Longrightarrow\\text{Var}(X+Y)=\\text{Var}(X)+\\text{Var}(Y)$."
      ]
    },
    {
      "cell_type": "markdown",
      "metadata": {
        "id": "xLocVTSopDBE"
      },
      "source": [
        "### Important: How to submit the notebook's output?\n",
        "\n",
        "You should only submit PDF file(s).\n",
        "In the print dialog of your browser, you can choose to `Save as PDF`. However, notice that some of the outputs may be cropped (become invisible), which can harm your grade.\n",
        "\n",
        "To prevent this from happening, tune the \"scale\" of the printed file, to fit in the *entire* output. For instance, in Chrome you should lower the value in `More settings->Scale->Custom` to contain the entire output (50%~ often work well).\n",
        "\n",
        "\n",
        "# Good luck!\n",
        "\n",
        "---"
      ]
    },
    {
      "cell_type": "markdown",
      "metadata": {
        "id": "T4ZfGFIGpftc"
      },
      "source": [
        "# What is pandas?\n",
        "Python library for Data manipulation and Analysis\n",
        " - Provide expressive data structures designed to make working with “relational” or “labeled” data both easy and intuitive.\n",
        " - Aims to be the fundamental high-level building block for doing practical, real world data analysis in Python.\n",
        " - Built on top of NumPy and is intended to integrate well within a scientific computing.\n",
        " - Inspired by R and Excel.\n",
        "\n",
        "Pandas is well suited for many different kinds of data:\n",
        "- **Tabular data** with heterogeneously-typed columns, as in an SQL table or Excel spreadsheet\n",
        "- Ordered and unordered (not necessarily fixed-frequency) **time series data**.\n",
        "- **Arbitrary matrix data** (homogeneously typed or heterogeneous) with row and column labels\n",
        "- Any other form of observational / statistical data sets (can be unlabeled)\n",
        "\n",
        "Two primary data structures\n",
        "- **Series** (1-dimensional) – Similar to a column in Excel’s spreadsheet\n",
        "- **Data Frame** (2-dimensional) – Similar to R’s data frame\n",
        "\n",
        "A few of the things that Pandas does well\n",
        "- Easy handling of **missing data** (represented as NaN)\n",
        "- Automatic and explicit **data alignment**\n",
        "- Read and Analyze **CSV** , Excel Sheets Easily\n",
        "- Operations\n",
        "- Filtering, Group By, Merging, Slicing and Dicing, Pivoting and Reshaping\n",
        "- Plotting graphs\n",
        "\n",
        "Pandas is very useful for interactive data exploration at the data preparation stage of a project\n",
        "\n",
        "The offical guide to Pandas can be found [here](http://pandas-docs.github.io/pandas-docs-travis/10min.html)"
      ]
    },
    {
      "cell_type": "markdown",
      "metadata": {
        "id": "TDYQN4Ml2aoo"
      },
      "source": [
        "## Pandas Objects"
      ]
    },
    {
      "cell_type": "code",
      "execution_count": 3,
      "metadata": {
        "id": "Q_c5BMc-2aoq"
      },
      "outputs": [],
      "source": [
        "import pandas as pd\n",
        "import numpy as np"
      ]
    },
    {
      "cell_type": "markdown",
      "metadata": {
        "id": "of7RnZdI2aov"
      },
      "source": [
        "**Series** is like a column in a spreadsheet."
      ]
    },
    {
      "cell_type": "code",
      "execution_count": null,
      "metadata": {
        "id": "ZhkFcXtD2aov"
      },
      "outputs": [],
      "source": [
        "s = pd.Series([1,3.2,np.nan,'string'])\n",
        "s"
      ]
    },
    {
      "cell_type": "markdown",
      "metadata": {
        "id": "zNJeQjmW2ao2"
      },
      "source": [
        "**DataFrame** is like a spreadsheet – a dictionary of Series objects"
      ]
    },
    {
      "cell_type": "code",
      "execution_count": null,
      "metadata": {
        "id": "Y3aJeHpt2ao2"
      },
      "outputs": [],
      "source": [
        "data = [['ABC', -3.5, 0.01], ['ABC', -2.3, 0.12], ['DEF', 1.8, 0.03],\n",
        "['DEF', 3.7, 0.01], ['GHI', 0.04, 0.43], ['GHI', -0.1, 0.67]]\n",
        "\n",
        "df = pd.DataFrame(data, columns=['gene', 'log2FC', 'pval'])\n",
        "\n",
        "df"
      ]
    },
    {
      "cell_type": "markdown",
      "metadata": {
        "id": "O19TbeqQ2apV"
      },
      "source": [
        "## Input and Output\n",
        "How do you get data into and out of Pandas as spreadsheets?\n",
        " - Pandas can work with XLS or XLSX files.\n",
        " - Can also work with CSV (comma separated values) file\n",
        " - CSV stores plain text in a tabular form\n",
        " - CSV files may have a header\n",
        " - You can use a variety of different field delimiters (rather than a ‘comma’). Check which delimiter your file is using before import!\n",
        "\n",
        "__Import to Pandas__  \n",
        " > `df = pd.read_csv('data.csv', sep='\\t', header=0)`\n",
        "\n",
        "For Excel files, it's the same thing but with read_excel\n",
        "\n",
        "__Export to text file__  \n",
        " > `df.to_csv('data.csv', sep='\\t', header=True, index=False)`\n",
        "\n",
        "The values of header and index depend on if you want to print the column and/or row names"
      ]
    },
    {
      "cell_type": "markdown",
      "metadata": {
        "id": "m2thuF1H2apW"
      },
      "source": [
        "# Case Study – Analyzing Titanic Passengers Data"
      ]
    },
    {
      "cell_type": "code",
      "execution_count": null,
      "metadata": {
        "id": "ff1J3-af2apW"
      },
      "outputs": [],
      "source": [
        "import matplotlib.pyplot as plt\n",
        "%matplotlib inline\n",
        "import numpy as np\n",
        "import pandas as pd\n",
        "import os\n",
        "\n",
        "\n",
        "#set your working_dir\n",
        "working_dir = os.path.join(os.getcwd(), 'titanic')\n",
        "\n",
        "url_base = 'https://github.com/Currie32/Titanic-Kaggle-Competition/raw/master/{}.csv'\n",
        "train_url = url_base.format('train')\n",
        "test_url = url_base.format('test')\n",
        "\n",
        "# For .read_csv, always use header=0 when you know row 0 is the header row\n",
        "train = pd.read_csv(train_url, header=0)\n",
        "test = pd.read_csv(test_url, header=0)\n",
        "# You can also load a csv file from a local file rather than a URL\n"
      ]
    },
    {
      "cell_type": "markdown",
      "metadata": {
        "id": "8S_-4wEdUF4D"
      },
      "source": [
        "**(T1)** Use [`pandas.DataFrame.head`](https://pandas.pydata.org/pandas-docs/stable/reference/api/pandas.DataFrame.head.html) to display the top 6 rows of the `train` table\n",
        "\n",
        "\n",
        "\n"
      ]
    },
    {
      "cell_type": "code",
      "execution_count": null,
      "metadata": {
        "id": "N358U4JN2apY"
      },
      "outputs": [],
      "source": [
        "pd.DataFrame.head(train)"
      ]
    },
    {
      "cell_type": "markdown",
      "metadata": {
        "id": "qJKYMsXK2apb"
      },
      "source": [
        "#### VARIABLE DESCRIPTIONS:\n",
        "**Survived** - 0 = No; 1 = Yes  \n",
        "**Age** - Passenger's age  \n",
        "**Pclass** - Passenger Class (1 = 1st; 2 = 2nd; 3 = 3rd)  \n",
        "**SibSp** - Number of Siblings/Spouses Aboard  \n",
        "**Parch** - Number of Parents/Children Aboard  \n",
        "**Ticket** - Ticket Number  \n",
        "**Fare** - Passenger Fare  \n",
        "**Cabin** - Cabin ID  \n",
        "**Embarked** - Port of Embarkation (C = Cherbourg; Q = Queenstown; S = Southampton)  "
      ]
    },
    {
      "cell_type": "code",
      "execution_count": null,
      "metadata": {
        "id": "p4A1YqGrMfZx"
      },
      "outputs": [],
      "source": [
        "train.columns"
      ]
    },
    {
      "cell_type": "markdown",
      "metadata": {
        "id": "qDaTDRy12apb"
      },
      "source": [
        "## Understanding the data (Summarizations)"
      ]
    },
    {
      "cell_type": "code",
      "execution_count": null,
      "metadata": {
        "id": "JlgPYAvoTbzW"
      },
      "outputs": [],
      "source": [
        "train.info()"
      ]
    },
    {
      "cell_type": "code",
      "execution_count": null,
      "metadata": {
        "id": "NEN2DzRf2apc"
      },
      "outputs": [],
      "source": [
        "train.shape"
      ]
    },
    {
      "cell_type": "code",
      "execution_count": null,
      "metadata": {
        "id": "QTtIgJx32aph"
      },
      "outputs": [],
      "source": [
        "# Count values of 'Survived'\n",
        "train.Survived.value_counts()"
      ]
    },
    {
      "cell_type": "code",
      "execution_count": null,
      "metadata": {
        "colab": {
          "base_uri": "https://localhost:8080/"
        },
        "id": "snOQKMYl2apk",
        "outputId": "acadb848-1e8c-4fb1-e837-98b665a0f5b4"
      },
      "outputs": [
        {
          "output_type": "execute_result",
          "data": {
            "text/plain": [
              "32.204207968574636"
            ]
          },
          "metadata": {},
          "execution_count": 16
        }
      ],
      "source": [
        "# Calculate the mean fare price\n",
        "train.Fare.mean()"
      ]
    },
    {
      "cell_type": "code",
      "execution_count": null,
      "metadata": {
        "id": "IksYWK9X2apq"
      },
      "outputs": [],
      "source": [
        "# General statistics of the dataframe\n",
        "train.describe()"
      ]
    },
    {
      "cell_type": "markdown",
      "metadata": {
        "id": "I6-oHvuz2apv"
      },
      "source": [
        "### Selection examples\n",
        "\n",
        "#### Selecting columns"
      ]
    },
    {
      "cell_type": "code",
      "execution_count": null,
      "metadata": {
        "colab": {
          "base_uri": "https://localhost:8080/",
          "height": 206
        },
        "id": "3uY4Z3D92apv",
        "outputId": "9807852f-7764-45f7-e0ec-aa938dcb24e3"
      },
      "outputs": [
        {
          "output_type": "execute_result",
          "data": {
            "text/plain": [
              "                                                Name     Sex   Age  Survived\n",
              "0                            Braund, Mr. Owen Harris    male  22.0         0\n",
              "1  Cumings, Mrs. John Bradley (Florence Briggs Th...  female  38.0         1\n",
              "2                             Heikkinen, Miss. Laina  female  26.0         1\n",
              "3       Futrelle, Mrs. Jacques Heath (Lily May Peel)  female  35.0         1\n",
              "4                           Allen, Mr. William Henry    male  35.0         0"
            ],
            "text/html": [
              "\n",
              "  <div id=\"df-459fc816-7251-4ecf-8858-e7b81ae529a7\" class=\"colab-df-container\">\n",
              "    <div>\n",
              "<style scoped>\n",
              "    .dataframe tbody tr th:only-of-type {\n",
              "        vertical-align: middle;\n",
              "    }\n",
              "\n",
              "    .dataframe tbody tr th {\n",
              "        vertical-align: top;\n",
              "    }\n",
              "\n",
              "    .dataframe thead th {\n",
              "        text-align: right;\n",
              "    }\n",
              "</style>\n",
              "<table border=\"1\" class=\"dataframe\">\n",
              "  <thead>\n",
              "    <tr style=\"text-align: right;\">\n",
              "      <th></th>\n",
              "      <th>Name</th>\n",
              "      <th>Sex</th>\n",
              "      <th>Age</th>\n",
              "      <th>Survived</th>\n",
              "    </tr>\n",
              "  </thead>\n",
              "  <tbody>\n",
              "    <tr>\n",
              "      <th>0</th>\n",
              "      <td>Braund, Mr. Owen Harris</td>\n",
              "      <td>male</td>\n",
              "      <td>22.0</td>\n",
              "      <td>0</td>\n",
              "    </tr>\n",
              "    <tr>\n",
              "      <th>1</th>\n",
              "      <td>Cumings, Mrs. John Bradley (Florence Briggs Th...</td>\n",
              "      <td>female</td>\n",
              "      <td>38.0</td>\n",
              "      <td>1</td>\n",
              "    </tr>\n",
              "    <tr>\n",
              "      <th>2</th>\n",
              "      <td>Heikkinen, Miss. Laina</td>\n",
              "      <td>female</td>\n",
              "      <td>26.0</td>\n",
              "      <td>1</td>\n",
              "    </tr>\n",
              "    <tr>\n",
              "      <th>3</th>\n",
              "      <td>Futrelle, Mrs. Jacques Heath (Lily May Peel)</td>\n",
              "      <td>female</td>\n",
              "      <td>35.0</td>\n",
              "      <td>1</td>\n",
              "    </tr>\n",
              "    <tr>\n",
              "      <th>4</th>\n",
              "      <td>Allen, Mr. William Henry</td>\n",
              "      <td>male</td>\n",
              "      <td>35.0</td>\n",
              "      <td>0</td>\n",
              "    </tr>\n",
              "  </tbody>\n",
              "</table>\n",
              "</div>\n",
              "    <div class=\"colab-df-buttons\">\n",
              "\n",
              "  <div class=\"colab-df-container\">\n",
              "    <button class=\"colab-df-convert\" onclick=\"convertToInteractive('df-459fc816-7251-4ecf-8858-e7b81ae529a7')\"\n",
              "            title=\"Convert this dataframe to an interactive table.\"\n",
              "            style=\"display:none;\">\n",
              "\n",
              "  <svg xmlns=\"http://www.w3.org/2000/svg\" height=\"24px\" viewBox=\"0 -960 960 960\">\n",
              "    <path d=\"M120-120v-720h720v720H120Zm60-500h600v-160H180v160Zm220 220h160v-160H400v160Zm0 220h160v-160H400v160ZM180-400h160v-160H180v160Zm440 0h160v-160H620v160ZM180-180h160v-160H180v160Zm440 0h160v-160H620v160Z\"/>\n",
              "  </svg>\n",
              "    </button>\n",
              "\n",
              "  <style>\n",
              "    .colab-df-container {\n",
              "      display:flex;\n",
              "      gap: 12px;\n",
              "    }\n",
              "\n",
              "    .colab-df-convert {\n",
              "      background-color: #E8F0FE;\n",
              "      border: none;\n",
              "      border-radius: 50%;\n",
              "      cursor: pointer;\n",
              "      display: none;\n",
              "      fill: #1967D2;\n",
              "      height: 32px;\n",
              "      padding: 0 0 0 0;\n",
              "      width: 32px;\n",
              "    }\n",
              "\n",
              "    .colab-df-convert:hover {\n",
              "      background-color: #E2EBFA;\n",
              "      box-shadow: 0px 1px 2px rgba(60, 64, 67, 0.3), 0px 1px 3px 1px rgba(60, 64, 67, 0.15);\n",
              "      fill: #174EA6;\n",
              "    }\n",
              "\n",
              "    .colab-df-buttons div {\n",
              "      margin-bottom: 4px;\n",
              "    }\n",
              "\n",
              "    [theme=dark] .colab-df-convert {\n",
              "      background-color: #3B4455;\n",
              "      fill: #D2E3FC;\n",
              "    }\n",
              "\n",
              "    [theme=dark] .colab-df-convert:hover {\n",
              "      background-color: #434B5C;\n",
              "      box-shadow: 0px 1px 3px 1px rgba(0, 0, 0, 0.15);\n",
              "      filter: drop-shadow(0px 1px 2px rgba(0, 0, 0, 0.3));\n",
              "      fill: #FFFFFF;\n",
              "    }\n",
              "  </style>\n",
              "\n",
              "    <script>\n",
              "      const buttonEl =\n",
              "        document.querySelector('#df-459fc816-7251-4ecf-8858-e7b81ae529a7 button.colab-df-convert');\n",
              "      buttonEl.style.display =\n",
              "        google.colab.kernel.accessAllowed ? 'block' : 'none';\n",
              "\n",
              "      async function convertToInteractive(key) {\n",
              "        const element = document.querySelector('#df-459fc816-7251-4ecf-8858-e7b81ae529a7');\n",
              "        const dataTable =\n",
              "          await google.colab.kernel.invokeFunction('convertToInteractive',\n",
              "                                                    [key], {});\n",
              "        if (!dataTable) return;\n",
              "\n",
              "        const docLinkHtml = 'Like what you see? Visit the ' +\n",
              "          '<a target=\"_blank\" href=https://colab.research.google.com/notebooks/data_table.ipynb>data table notebook</a>'\n",
              "          + ' to learn more about interactive tables.';\n",
              "        element.innerHTML = '';\n",
              "        dataTable['output_type'] = 'display_data';\n",
              "        await google.colab.output.renderOutput(dataTable, element);\n",
              "        const docLink = document.createElement('div');\n",
              "        docLink.innerHTML = docLinkHtml;\n",
              "        element.appendChild(docLink);\n",
              "      }\n",
              "    </script>\n",
              "  </div>\n",
              "\n",
              "\n",
              "<div id=\"df-bedd4382-cf77-42e6-a091-36854e676fea\">\n",
              "  <button class=\"colab-df-quickchart\" onclick=\"quickchart('df-bedd4382-cf77-42e6-a091-36854e676fea')\"\n",
              "            title=\"Suggest charts\"\n",
              "            style=\"display:none;\">\n",
              "\n",
              "<svg xmlns=\"http://www.w3.org/2000/svg\" height=\"24px\"viewBox=\"0 0 24 24\"\n",
              "     width=\"24px\">\n",
              "    <g>\n",
              "        <path d=\"M19 3H5c-1.1 0-2 .9-2 2v14c0 1.1.9 2 2 2h14c1.1 0 2-.9 2-2V5c0-1.1-.9-2-2-2zM9 17H7v-7h2v7zm4 0h-2V7h2v10zm4 0h-2v-4h2v4z\"/>\n",
              "    </g>\n",
              "</svg>\n",
              "  </button>\n",
              "\n",
              "<style>\n",
              "  .colab-df-quickchart {\n",
              "      --bg-color: #E8F0FE;\n",
              "      --fill-color: #1967D2;\n",
              "      --hover-bg-color: #E2EBFA;\n",
              "      --hover-fill-color: #174EA6;\n",
              "      --disabled-fill-color: #AAA;\n",
              "      --disabled-bg-color: #DDD;\n",
              "  }\n",
              "\n",
              "  [theme=dark] .colab-df-quickchart {\n",
              "      --bg-color: #3B4455;\n",
              "      --fill-color: #D2E3FC;\n",
              "      --hover-bg-color: #434B5C;\n",
              "      --hover-fill-color: #FFFFFF;\n",
              "      --disabled-bg-color: #3B4455;\n",
              "      --disabled-fill-color: #666;\n",
              "  }\n",
              "\n",
              "  .colab-df-quickchart {\n",
              "    background-color: var(--bg-color);\n",
              "    border: none;\n",
              "    border-radius: 50%;\n",
              "    cursor: pointer;\n",
              "    display: none;\n",
              "    fill: var(--fill-color);\n",
              "    height: 32px;\n",
              "    padding: 0;\n",
              "    width: 32px;\n",
              "  }\n",
              "\n",
              "  .colab-df-quickchart:hover {\n",
              "    background-color: var(--hover-bg-color);\n",
              "    box-shadow: 0 1px 2px rgba(60, 64, 67, 0.3), 0 1px 3px 1px rgba(60, 64, 67, 0.15);\n",
              "    fill: var(--button-hover-fill-color);\n",
              "  }\n",
              "\n",
              "  .colab-df-quickchart-complete:disabled,\n",
              "  .colab-df-quickchart-complete:disabled:hover {\n",
              "    background-color: var(--disabled-bg-color);\n",
              "    fill: var(--disabled-fill-color);\n",
              "    box-shadow: none;\n",
              "  }\n",
              "\n",
              "  .colab-df-spinner {\n",
              "    border: 2px solid var(--fill-color);\n",
              "    border-color: transparent;\n",
              "    border-bottom-color: var(--fill-color);\n",
              "    animation:\n",
              "      spin 1s steps(1) infinite;\n",
              "  }\n",
              "\n",
              "  @keyframes spin {\n",
              "    0% {\n",
              "      border-color: transparent;\n",
              "      border-bottom-color: var(--fill-color);\n",
              "      border-left-color: var(--fill-color);\n",
              "    }\n",
              "    20% {\n",
              "      border-color: transparent;\n",
              "      border-left-color: var(--fill-color);\n",
              "      border-top-color: var(--fill-color);\n",
              "    }\n",
              "    30% {\n",
              "      border-color: transparent;\n",
              "      border-left-color: var(--fill-color);\n",
              "      border-top-color: var(--fill-color);\n",
              "      border-right-color: var(--fill-color);\n",
              "    }\n",
              "    40% {\n",
              "      border-color: transparent;\n",
              "      border-right-color: var(--fill-color);\n",
              "      border-top-color: var(--fill-color);\n",
              "    }\n",
              "    60% {\n",
              "      border-color: transparent;\n",
              "      border-right-color: var(--fill-color);\n",
              "    }\n",
              "    80% {\n",
              "      border-color: transparent;\n",
              "      border-right-color: var(--fill-color);\n",
              "      border-bottom-color: var(--fill-color);\n",
              "    }\n",
              "    90% {\n",
              "      border-color: transparent;\n",
              "      border-bottom-color: var(--fill-color);\n",
              "    }\n",
              "  }\n",
              "</style>\n",
              "\n",
              "  <script>\n",
              "    async function quickchart(key) {\n",
              "      const quickchartButtonEl =\n",
              "        document.querySelector('#' + key + ' button');\n",
              "      quickchartButtonEl.disabled = true;  // To prevent multiple clicks.\n",
              "      quickchartButtonEl.classList.add('colab-df-spinner');\n",
              "      try {\n",
              "        const charts = await google.colab.kernel.invokeFunction(\n",
              "            'suggestCharts', [key], {});\n",
              "      } catch (error) {\n",
              "        console.error('Error during call to suggestCharts:', error);\n",
              "      }\n",
              "      quickchartButtonEl.classList.remove('colab-df-spinner');\n",
              "      quickchartButtonEl.classList.add('colab-df-quickchart-complete');\n",
              "    }\n",
              "    (() => {\n",
              "      let quickchartButtonEl =\n",
              "        document.querySelector('#df-bedd4382-cf77-42e6-a091-36854e676fea button');\n",
              "      quickchartButtonEl.style.display =\n",
              "        google.colab.kernel.accessAllowed ? 'block' : 'none';\n",
              "    })();\n",
              "  </script>\n",
              "</div>\n",
              "\n",
              "    </div>\n",
              "  </div>\n"
            ]
          },
          "metadata": {},
          "execution_count": 21
        }
      ],
      "source": [
        "# Selection is very similar to standard Python selection\n",
        "df1 = train[[\"Name\", \"Sex\", \"Age\", \"Survived\"]]\n",
        "df1.head()"
      ]
    },
    {
      "cell_type": "markdown",
      "metadata": {
        "id": "b4EyHvFXLjFT"
      },
      "source": [
        "#### Selecting rows"
      ]
    },
    {
      "cell_type": "code",
      "execution_count": null,
      "metadata": {
        "id": "xGY0BqS72ap0"
      },
      "outputs": [],
      "source": [
        "df1[10:15]"
      ]
    },
    {
      "cell_type": "markdown",
      "metadata": {
        "id": "hDGOpl252ap7"
      },
      "source": [
        "### Filtering Examples"
      ]
    },
    {
      "cell_type": "markdown",
      "metadata": {
        "id": "kJMt5yUxWY79"
      },
      "source": [
        "#### Filtering with one condition"
      ]
    },
    {
      "cell_type": "code",
      "execution_count": null,
      "metadata": {
        "id": "ozFXXNB_2ap9"
      },
      "outputs": [],
      "source": [
        "# Filtering allows you to create masks given some conditions\n",
        "df1.Sex == 'female'"
      ]
    },
    {
      "cell_type": "code",
      "execution_count": null,
      "metadata": {
        "id": "xfny3baQVPOt"
      },
      "outputs": [],
      "source": [
        "onlyFemale = df1[df1.Sex == 'female']\n",
        "onlyFemale.head()"
      ]
    },
    {
      "cell_type": "markdown",
      "metadata": {
        "id": "Y0KwaVncWdjI"
      },
      "source": [
        "#### Filtering with multiple conditions\n",
        "**(T2)** Alter the following command so `adultFemales` will contain only females whose age is 18 and above.  \n",
        "You need to filter using a **single** mask with multiple conditions (google it!), i.e., without creating any temporary dataframes.\n",
        "\n",
        "Additionally, update the `survivalRate` variable to show the correct rate."
      ]
    },
    {
      "cell_type": "code",
      "execution_count": null,
      "metadata": {
        "colab": {
          "base_uri": "https://localhost:8080/"
        },
        "id": "3hutR85R2aqC",
        "outputId": "a24f9846-81b7-486b-9f73-450d58c47a84"
      },
      "outputs": [
        {
          "output_type": "stream",
          "name": "stdout",
          "text": [
            "The survival rate of adult females was: 77.18%\n"
          ]
        }
      ],
      "source": [
        "adultFemales = df1.loc[(df1.Sex == 'female') & (df1.Age >= 18)]\n",
        "\n",
        "survivalRate = adultFemales.Survived.mean()\n",
        "print(\"The survival rate of adult females was: {:.2f}%\".format(survivalRate * 100))"
      ]
    },
    {
      "cell_type": "markdown",
      "metadata": {
        "id": "udZZT8Fo2aqN"
      },
      "source": [
        "## Aggregating\n",
        "Pandas allows you to aggregate and display different views of your data."
      ]
    },
    {
      "cell_type": "code",
      "execution_count": null,
      "metadata": {
        "id": "_osF_D4n2aqO"
      },
      "outputs": [],
      "source": [
        "df2 = train.groupby(['Pclass', 'Sex']).Fare.agg(np.mean)\n",
        "df2"
      ]
    },
    {
      "cell_type": "code",
      "execution_count": null,
      "metadata": {
        "id": "KiS5Cjm-2aqR"
      },
      "outputs": [],
      "source": [
        "pd.pivot_table(train, index=['Pclass'], values=['Survived'], aggfunc='count')"
      ]
    },
    {
      "cell_type": "markdown",
      "metadata": {
        "id": "6WNTC_WwHYQ0"
      },
      "source": [
        "The following table shows the survival rates for each combination of passenger class and sex.  \n",
        "**(T3)** Add a column showing the mean **age** for such a combination."
      ]
    },
    {
      "cell_type": "code",
      "execution_count": null,
      "metadata": {
        "colab": {
          "base_uri": "https://localhost:8080/",
          "height": 269
        },
        "id": "GlukQGgs2aqU",
        "outputId": "ce0fc97e-be99-4f80-9445-084e35e5d756"
      },
      "outputs": [
        {
          "output_type": "execute_result",
          "data": {
            "text/plain": [
              "                     Age  Survived\n",
              "Pclass Sex                        \n",
              "1      female  34.611765  0.968085\n",
              "       male    41.281386  0.368852\n",
              "2      female  28.722973  0.921053\n",
              "       male    30.740707  0.157407\n",
              "3      female  21.750000  0.500000\n",
              "       male    26.507589  0.135447"
            ],
            "text/html": [
              "\n",
              "  <div id=\"df-668c9b87-c487-4349-b53b-c8dee6a0ab8f\" class=\"colab-df-container\">\n",
              "    <div>\n",
              "<style scoped>\n",
              "    .dataframe tbody tr th:only-of-type {\n",
              "        vertical-align: middle;\n",
              "    }\n",
              "\n",
              "    .dataframe tbody tr th {\n",
              "        vertical-align: top;\n",
              "    }\n",
              "\n",
              "    .dataframe thead th {\n",
              "        text-align: right;\n",
              "    }\n",
              "</style>\n",
              "<table border=\"1\" class=\"dataframe\">\n",
              "  <thead>\n",
              "    <tr style=\"text-align: right;\">\n",
              "      <th></th>\n",
              "      <th></th>\n",
              "      <th>Age</th>\n",
              "      <th>Survived</th>\n",
              "    </tr>\n",
              "    <tr>\n",
              "      <th>Pclass</th>\n",
              "      <th>Sex</th>\n",
              "      <th></th>\n",
              "      <th></th>\n",
              "    </tr>\n",
              "  </thead>\n",
              "  <tbody>\n",
              "    <tr>\n",
              "      <th rowspan=\"2\" valign=\"top\">1</th>\n",
              "      <th>female</th>\n",
              "      <td>34.611765</td>\n",
              "      <td>0.968085</td>\n",
              "    </tr>\n",
              "    <tr>\n",
              "      <th>male</th>\n",
              "      <td>41.281386</td>\n",
              "      <td>0.368852</td>\n",
              "    </tr>\n",
              "    <tr>\n",
              "      <th rowspan=\"2\" valign=\"top\">2</th>\n",
              "      <th>female</th>\n",
              "      <td>28.722973</td>\n",
              "      <td>0.921053</td>\n",
              "    </tr>\n",
              "    <tr>\n",
              "      <th>male</th>\n",
              "      <td>30.740707</td>\n",
              "      <td>0.157407</td>\n",
              "    </tr>\n",
              "    <tr>\n",
              "      <th rowspan=\"2\" valign=\"top\">3</th>\n",
              "      <th>female</th>\n",
              "      <td>21.750000</td>\n",
              "      <td>0.500000</td>\n",
              "    </tr>\n",
              "    <tr>\n",
              "      <th>male</th>\n",
              "      <td>26.507589</td>\n",
              "      <td>0.135447</td>\n",
              "    </tr>\n",
              "  </tbody>\n",
              "</table>\n",
              "</div>\n",
              "    <div class=\"colab-df-buttons\">\n",
              "\n",
              "  <div class=\"colab-df-container\">\n",
              "    <button class=\"colab-df-convert\" onclick=\"convertToInteractive('df-668c9b87-c487-4349-b53b-c8dee6a0ab8f')\"\n",
              "            title=\"Convert this dataframe to an interactive table.\"\n",
              "            style=\"display:none;\">\n",
              "\n",
              "  <svg xmlns=\"http://www.w3.org/2000/svg\" height=\"24px\" viewBox=\"0 -960 960 960\">\n",
              "    <path d=\"M120-120v-720h720v720H120Zm60-500h600v-160H180v160Zm220 220h160v-160H400v160Zm0 220h160v-160H400v160ZM180-400h160v-160H180v160Zm440 0h160v-160H620v160ZM180-180h160v-160H180v160Zm440 0h160v-160H620v160Z\"/>\n",
              "  </svg>\n",
              "    </button>\n",
              "\n",
              "  <style>\n",
              "    .colab-df-container {\n",
              "      display:flex;\n",
              "      gap: 12px;\n",
              "    }\n",
              "\n",
              "    .colab-df-convert {\n",
              "      background-color: #E8F0FE;\n",
              "      border: none;\n",
              "      border-radius: 50%;\n",
              "      cursor: pointer;\n",
              "      display: none;\n",
              "      fill: #1967D2;\n",
              "      height: 32px;\n",
              "      padding: 0 0 0 0;\n",
              "      width: 32px;\n",
              "    }\n",
              "\n",
              "    .colab-df-convert:hover {\n",
              "      background-color: #E2EBFA;\n",
              "      box-shadow: 0px 1px 2px rgba(60, 64, 67, 0.3), 0px 1px 3px 1px rgba(60, 64, 67, 0.15);\n",
              "      fill: #174EA6;\n",
              "    }\n",
              "\n",
              "    .colab-df-buttons div {\n",
              "      margin-bottom: 4px;\n",
              "    }\n",
              "\n",
              "    [theme=dark] .colab-df-convert {\n",
              "      background-color: #3B4455;\n",
              "      fill: #D2E3FC;\n",
              "    }\n",
              "\n",
              "    [theme=dark] .colab-df-convert:hover {\n",
              "      background-color: #434B5C;\n",
              "      box-shadow: 0px 1px 3px 1px rgba(0, 0, 0, 0.15);\n",
              "      filter: drop-shadow(0px 1px 2px rgba(0, 0, 0, 0.3));\n",
              "      fill: #FFFFFF;\n",
              "    }\n",
              "  </style>\n",
              "\n",
              "    <script>\n",
              "      const buttonEl =\n",
              "        document.querySelector('#df-668c9b87-c487-4349-b53b-c8dee6a0ab8f button.colab-df-convert');\n",
              "      buttonEl.style.display =\n",
              "        google.colab.kernel.accessAllowed ? 'block' : 'none';\n",
              "\n",
              "      async function convertToInteractive(key) {\n",
              "        const element = document.querySelector('#df-668c9b87-c487-4349-b53b-c8dee6a0ab8f');\n",
              "        const dataTable =\n",
              "          await google.colab.kernel.invokeFunction('convertToInteractive',\n",
              "                                                    [key], {});\n",
              "        if (!dataTable) return;\n",
              "\n",
              "        const docLinkHtml = 'Like what you see? Visit the ' +\n",
              "          '<a target=\"_blank\" href=https://colab.research.google.com/notebooks/data_table.ipynb>data table notebook</a>'\n",
              "          + ' to learn more about interactive tables.';\n",
              "        element.innerHTML = '';\n",
              "        dataTable['output_type'] = 'display_data';\n",
              "        await google.colab.output.renderOutput(dataTable, element);\n",
              "        const docLink = document.createElement('div');\n",
              "        docLink.innerHTML = docLinkHtml;\n",
              "        element.appendChild(docLink);\n",
              "      }\n",
              "    </script>\n",
              "  </div>\n",
              "\n",
              "\n",
              "<div id=\"df-c395b190-2d27-48f6-a9ca-9e4fa6fd0068\">\n",
              "  <button class=\"colab-df-quickchart\" onclick=\"quickchart('df-c395b190-2d27-48f6-a9ca-9e4fa6fd0068')\"\n",
              "            title=\"Suggest charts\"\n",
              "            style=\"display:none;\">\n",
              "\n",
              "<svg xmlns=\"http://www.w3.org/2000/svg\" height=\"24px\"viewBox=\"0 0 24 24\"\n",
              "     width=\"24px\">\n",
              "    <g>\n",
              "        <path d=\"M19 3H5c-1.1 0-2 .9-2 2v14c0 1.1.9 2 2 2h14c1.1 0 2-.9 2-2V5c0-1.1-.9-2-2-2zM9 17H7v-7h2v7zm4 0h-2V7h2v10zm4 0h-2v-4h2v4z\"/>\n",
              "    </g>\n",
              "</svg>\n",
              "  </button>\n",
              "\n",
              "<style>\n",
              "  .colab-df-quickchart {\n",
              "      --bg-color: #E8F0FE;\n",
              "      --fill-color: #1967D2;\n",
              "      --hover-bg-color: #E2EBFA;\n",
              "      --hover-fill-color: #174EA6;\n",
              "      --disabled-fill-color: #AAA;\n",
              "      --disabled-bg-color: #DDD;\n",
              "  }\n",
              "\n",
              "  [theme=dark] .colab-df-quickchart {\n",
              "      --bg-color: #3B4455;\n",
              "      --fill-color: #D2E3FC;\n",
              "      --hover-bg-color: #434B5C;\n",
              "      --hover-fill-color: #FFFFFF;\n",
              "      --disabled-bg-color: #3B4455;\n",
              "      --disabled-fill-color: #666;\n",
              "  }\n",
              "\n",
              "  .colab-df-quickchart {\n",
              "    background-color: var(--bg-color);\n",
              "    border: none;\n",
              "    border-radius: 50%;\n",
              "    cursor: pointer;\n",
              "    display: none;\n",
              "    fill: var(--fill-color);\n",
              "    height: 32px;\n",
              "    padding: 0;\n",
              "    width: 32px;\n",
              "  }\n",
              "\n",
              "  .colab-df-quickchart:hover {\n",
              "    background-color: var(--hover-bg-color);\n",
              "    box-shadow: 0 1px 2px rgba(60, 64, 67, 0.3), 0 1px 3px 1px rgba(60, 64, 67, 0.15);\n",
              "    fill: var(--button-hover-fill-color);\n",
              "  }\n",
              "\n",
              "  .colab-df-quickchart-complete:disabled,\n",
              "  .colab-df-quickchart-complete:disabled:hover {\n",
              "    background-color: var(--disabled-bg-color);\n",
              "    fill: var(--disabled-fill-color);\n",
              "    box-shadow: none;\n",
              "  }\n",
              "\n",
              "  .colab-df-spinner {\n",
              "    border: 2px solid var(--fill-color);\n",
              "    border-color: transparent;\n",
              "    border-bottom-color: var(--fill-color);\n",
              "    animation:\n",
              "      spin 1s steps(1) infinite;\n",
              "  }\n",
              "\n",
              "  @keyframes spin {\n",
              "    0% {\n",
              "      border-color: transparent;\n",
              "      border-bottom-color: var(--fill-color);\n",
              "      border-left-color: var(--fill-color);\n",
              "    }\n",
              "    20% {\n",
              "      border-color: transparent;\n",
              "      border-left-color: var(--fill-color);\n",
              "      border-top-color: var(--fill-color);\n",
              "    }\n",
              "    30% {\n",
              "      border-color: transparent;\n",
              "      border-left-color: var(--fill-color);\n",
              "      border-top-color: var(--fill-color);\n",
              "      border-right-color: var(--fill-color);\n",
              "    }\n",
              "    40% {\n",
              "      border-color: transparent;\n",
              "      border-right-color: var(--fill-color);\n",
              "      border-top-color: var(--fill-color);\n",
              "    }\n",
              "    60% {\n",
              "      border-color: transparent;\n",
              "      border-right-color: var(--fill-color);\n",
              "    }\n",
              "    80% {\n",
              "      border-color: transparent;\n",
              "      border-right-color: var(--fill-color);\n",
              "      border-bottom-color: var(--fill-color);\n",
              "    }\n",
              "    90% {\n",
              "      border-color: transparent;\n",
              "      border-bottom-color: var(--fill-color);\n",
              "    }\n",
              "  }\n",
              "</style>\n",
              "\n",
              "  <script>\n",
              "    async function quickchart(key) {\n",
              "      const quickchartButtonEl =\n",
              "        document.querySelector('#' + key + ' button');\n",
              "      quickchartButtonEl.disabled = true;  // To prevent multiple clicks.\n",
              "      quickchartButtonEl.classList.add('colab-df-spinner');\n",
              "      try {\n",
              "        const charts = await google.colab.kernel.invokeFunction(\n",
              "            'suggestCharts', [key], {});\n",
              "      } catch (error) {\n",
              "        console.error('Error during call to suggestCharts:', error);\n",
              "      }\n",
              "      quickchartButtonEl.classList.remove('colab-df-spinner');\n",
              "      quickchartButtonEl.classList.add('colab-df-quickchart-complete');\n",
              "    }\n",
              "    (() => {\n",
              "      let quickchartButtonEl =\n",
              "        document.querySelector('#df-c395b190-2d27-48f6-a9ca-9e4fa6fd0068 button');\n",
              "      quickchartButtonEl.style.display =\n",
              "        google.colab.kernel.accessAllowed ? 'block' : 'none';\n",
              "    })();\n",
              "  </script>\n",
              "</div>\n",
              "\n",
              "    </div>\n",
              "  </div>\n"
            ]
          },
          "metadata": {},
          "execution_count": 5
        }
      ],
      "source": [
        "pd.pivot_table(train, index=['Pclass', 'Sex'], values=['Survived', 'Age'], aggfunc='mean')"
      ]
    },
    {
      "cell_type": "markdown",
      "metadata": {
        "id": "GQa2WGIPQ5JC"
      },
      "source": [
        "**(T4)** Use [this](https://stackoverflow.com/questions/21441259/pandas-groupby-range-of-values) question on stackoverflow, to find the mean survival rate for ages 0-10, 10-20, etc.).\n",
        "\n",
        "Hint: the first row should roughly look like this:\n",
        ">\t\t\t  \t   Age\tSurvived\n",
        "\tAge\n",
        "\t(0, 10]\t4.268281\t0.593750"
      ]
    },
    {
      "cell_type": "code",
      "execution_count": null,
      "metadata": {
        "id": "yVq3VqPH2arc"
      },
      "outputs": [],
      "source": [
        "ageGroups = np.arange(0, 81, 10)\n",
        "survivalPerAgeGroup = train.groupby(pd.cut(train[\"Age\"], ageGroups))[['Age','Survived']].mean()\n",
        "\n",
        "survivalPerAgeGroup"
      ]
    },
    {
      "cell_type": "code",
      "execution_count": null,
      "metadata": {
        "id": "DyyMP7x5yXAn",
        "colab": {
          "base_uri": "https://localhost:8080/"
        },
        "outputId": "2dabecd9-8fc3-4958-a184-13709fd10155"
      },
      "outputs": [
        {
          "output_type": "execute_result",
          "data": {
            "text/plain": [
              "pandas.core.series.Series"
            ]
          },
          "metadata": {},
          "execution_count": 17
        }
      ],
      "source": [
        "type(train.groupby(pd.cut(train.Age, ageGroups)).Survived.mean())"
      ]
    },
    {
      "cell_type": "markdown",
      "metadata": {
        "id": "2RGfdp3kI6FW"
      },
      "source": [
        "## Filling missing data (data imputation)\n",
        "\n",
        "Note that some passenger do not have age data."
      ]
    },
    {
      "cell_type": "code",
      "execution_count": null,
      "metadata": {
        "id": "_xMMyKw0J5WD",
        "colab": {
          "base_uri": "https://localhost:8080/"
        },
        "outputId": "21ee2cfc-0f93-4545-9f5b-3c817431cfae"
      },
      "outputs": [
        {
          "output_type": "stream",
          "name": "stdout",
          "text": [
            "177 out of 891 passengers do not have a recorded age\n"
          ]
        }
      ],
      "source": [
        "print(\"{} out of {} passengers do not have a recorded age\".format(df1[df1.Age.isna()].shape[0], df1.shape[0]))"
      ]
    },
    {
      "cell_type": "code",
      "execution_count": null,
      "metadata": {
        "id": "0kHH8y-KI5Mj",
        "colab": {
          "base_uri": "https://localhost:8080/",
          "height": 206
        },
        "outputId": "ab6d5a77-257a-40d8-cedd-ade84b0c3ac2"
      },
      "outputs": [
        {
          "output_type": "execute_result",
          "data": {
            "text/plain": [
              "                             Name     Sex  Age  Survived\n",
              "5                Moran, Mr. James    male  NaN         0\n",
              "17   Williams, Mr. Charles Eugene    male  NaN         1\n",
              "19        Masselmani, Mrs. Fatima  female  NaN         1\n",
              "26        Emir, Mr. Farred Chehab    male  NaN         0\n",
              "28  O'Dwyer, Miss. Ellen \"Nellie\"  female  NaN         1"
            ],
            "text/html": [
              "\n",
              "  <div id=\"df-5a0d7995-c042-4028-83ef-e38588e1c671\" class=\"colab-df-container\">\n",
              "    <div>\n",
              "<style scoped>\n",
              "    .dataframe tbody tr th:only-of-type {\n",
              "        vertical-align: middle;\n",
              "    }\n",
              "\n",
              "    .dataframe tbody tr th {\n",
              "        vertical-align: top;\n",
              "    }\n",
              "\n",
              "    .dataframe thead th {\n",
              "        text-align: right;\n",
              "    }\n",
              "</style>\n",
              "<table border=\"1\" class=\"dataframe\">\n",
              "  <thead>\n",
              "    <tr style=\"text-align: right;\">\n",
              "      <th></th>\n",
              "      <th>Name</th>\n",
              "      <th>Sex</th>\n",
              "      <th>Age</th>\n",
              "      <th>Survived</th>\n",
              "    </tr>\n",
              "  </thead>\n",
              "  <tbody>\n",
              "    <tr>\n",
              "      <th>5</th>\n",
              "      <td>Moran, Mr. James</td>\n",
              "      <td>male</td>\n",
              "      <td>NaN</td>\n",
              "      <td>0</td>\n",
              "    </tr>\n",
              "    <tr>\n",
              "      <th>17</th>\n",
              "      <td>Williams, Mr. Charles Eugene</td>\n",
              "      <td>male</td>\n",
              "      <td>NaN</td>\n",
              "      <td>1</td>\n",
              "    </tr>\n",
              "    <tr>\n",
              "      <th>19</th>\n",
              "      <td>Masselmani, Mrs. Fatima</td>\n",
              "      <td>female</td>\n",
              "      <td>NaN</td>\n",
              "      <td>1</td>\n",
              "    </tr>\n",
              "    <tr>\n",
              "      <th>26</th>\n",
              "      <td>Emir, Mr. Farred Chehab</td>\n",
              "      <td>male</td>\n",
              "      <td>NaN</td>\n",
              "      <td>0</td>\n",
              "    </tr>\n",
              "    <tr>\n",
              "      <th>28</th>\n",
              "      <td>O'Dwyer, Miss. Ellen \"Nellie\"</td>\n",
              "      <td>female</td>\n",
              "      <td>NaN</td>\n",
              "      <td>1</td>\n",
              "    </tr>\n",
              "  </tbody>\n",
              "</table>\n",
              "</div>\n",
              "    <div class=\"colab-df-buttons\">\n",
              "\n",
              "  <div class=\"colab-df-container\">\n",
              "    <button class=\"colab-df-convert\" onclick=\"convertToInteractive('df-5a0d7995-c042-4028-83ef-e38588e1c671')\"\n",
              "            title=\"Convert this dataframe to an interactive table.\"\n",
              "            style=\"display:none;\">\n",
              "\n",
              "  <svg xmlns=\"http://www.w3.org/2000/svg\" height=\"24px\" viewBox=\"0 -960 960 960\">\n",
              "    <path d=\"M120-120v-720h720v720H120Zm60-500h600v-160H180v160Zm220 220h160v-160H400v160Zm0 220h160v-160H400v160ZM180-400h160v-160H180v160Zm440 0h160v-160H620v160ZM180-180h160v-160H180v160Zm440 0h160v-160H620v160Z\"/>\n",
              "  </svg>\n",
              "    </button>\n",
              "\n",
              "  <style>\n",
              "    .colab-df-container {\n",
              "      display:flex;\n",
              "      gap: 12px;\n",
              "    }\n",
              "\n",
              "    .colab-df-convert {\n",
              "      background-color: #E8F0FE;\n",
              "      border: none;\n",
              "      border-radius: 50%;\n",
              "      cursor: pointer;\n",
              "      display: none;\n",
              "      fill: #1967D2;\n",
              "      height: 32px;\n",
              "      padding: 0 0 0 0;\n",
              "      width: 32px;\n",
              "    }\n",
              "\n",
              "    .colab-df-convert:hover {\n",
              "      background-color: #E2EBFA;\n",
              "      box-shadow: 0px 1px 2px rgba(60, 64, 67, 0.3), 0px 1px 3px 1px rgba(60, 64, 67, 0.15);\n",
              "      fill: #174EA6;\n",
              "    }\n",
              "\n",
              "    .colab-df-buttons div {\n",
              "      margin-bottom: 4px;\n",
              "    }\n",
              "\n",
              "    [theme=dark] .colab-df-convert {\n",
              "      background-color: #3B4455;\n",
              "      fill: #D2E3FC;\n",
              "    }\n",
              "\n",
              "    [theme=dark] .colab-df-convert:hover {\n",
              "      background-color: #434B5C;\n",
              "      box-shadow: 0px 1px 3px 1px rgba(0, 0, 0, 0.15);\n",
              "      filter: drop-shadow(0px 1px 2px rgba(0, 0, 0, 0.3));\n",
              "      fill: #FFFFFF;\n",
              "    }\n",
              "  </style>\n",
              "\n",
              "    <script>\n",
              "      const buttonEl =\n",
              "        document.querySelector('#df-5a0d7995-c042-4028-83ef-e38588e1c671 button.colab-df-convert');\n",
              "      buttonEl.style.display =\n",
              "        google.colab.kernel.accessAllowed ? 'block' : 'none';\n",
              "\n",
              "      async function convertToInteractive(key) {\n",
              "        const element = document.querySelector('#df-5a0d7995-c042-4028-83ef-e38588e1c671');\n",
              "        const dataTable =\n",
              "          await google.colab.kernel.invokeFunction('convertToInteractive',\n",
              "                                                    [key], {});\n",
              "        if (!dataTable) return;\n",
              "\n",
              "        const docLinkHtml = 'Like what you see? Visit the ' +\n",
              "          '<a target=\"_blank\" href=https://colab.research.google.com/notebooks/data_table.ipynb>data table notebook</a>'\n",
              "          + ' to learn more about interactive tables.';\n",
              "        element.innerHTML = '';\n",
              "        dataTable['output_type'] = 'display_data';\n",
              "        await google.colab.output.renderOutput(dataTable, element);\n",
              "        const docLink = document.createElement('div');\n",
              "        docLink.innerHTML = docLinkHtml;\n",
              "        element.appendChild(docLink);\n",
              "      }\n",
              "    </script>\n",
              "  </div>\n",
              "\n",
              "\n",
              "<div id=\"df-13046d45-fc75-450b-a9c7-c75e6886efa0\">\n",
              "  <button class=\"colab-df-quickchart\" onclick=\"quickchart('df-13046d45-fc75-450b-a9c7-c75e6886efa0')\"\n",
              "            title=\"Suggest charts\"\n",
              "            style=\"display:none;\">\n",
              "\n",
              "<svg xmlns=\"http://www.w3.org/2000/svg\" height=\"24px\"viewBox=\"0 0 24 24\"\n",
              "     width=\"24px\">\n",
              "    <g>\n",
              "        <path d=\"M19 3H5c-1.1 0-2 .9-2 2v14c0 1.1.9 2 2 2h14c1.1 0 2-.9 2-2V5c0-1.1-.9-2-2-2zM9 17H7v-7h2v7zm4 0h-2V7h2v10zm4 0h-2v-4h2v4z\"/>\n",
              "    </g>\n",
              "</svg>\n",
              "  </button>\n",
              "\n",
              "<style>\n",
              "  .colab-df-quickchart {\n",
              "      --bg-color: #E8F0FE;\n",
              "      --fill-color: #1967D2;\n",
              "      --hover-bg-color: #E2EBFA;\n",
              "      --hover-fill-color: #174EA6;\n",
              "      --disabled-fill-color: #AAA;\n",
              "      --disabled-bg-color: #DDD;\n",
              "  }\n",
              "\n",
              "  [theme=dark] .colab-df-quickchart {\n",
              "      --bg-color: #3B4455;\n",
              "      --fill-color: #D2E3FC;\n",
              "      --hover-bg-color: #434B5C;\n",
              "      --hover-fill-color: #FFFFFF;\n",
              "      --disabled-bg-color: #3B4455;\n",
              "      --disabled-fill-color: #666;\n",
              "  }\n",
              "\n",
              "  .colab-df-quickchart {\n",
              "    background-color: var(--bg-color);\n",
              "    border: none;\n",
              "    border-radius: 50%;\n",
              "    cursor: pointer;\n",
              "    display: none;\n",
              "    fill: var(--fill-color);\n",
              "    height: 32px;\n",
              "    padding: 0;\n",
              "    width: 32px;\n",
              "  }\n",
              "\n",
              "  .colab-df-quickchart:hover {\n",
              "    background-color: var(--hover-bg-color);\n",
              "    box-shadow: 0 1px 2px rgba(60, 64, 67, 0.3), 0 1px 3px 1px rgba(60, 64, 67, 0.15);\n",
              "    fill: var(--button-hover-fill-color);\n",
              "  }\n",
              "\n",
              "  .colab-df-quickchart-complete:disabled,\n",
              "  .colab-df-quickchart-complete:disabled:hover {\n",
              "    background-color: var(--disabled-bg-color);\n",
              "    fill: var(--disabled-fill-color);\n",
              "    box-shadow: none;\n",
              "  }\n",
              "\n",
              "  .colab-df-spinner {\n",
              "    border: 2px solid var(--fill-color);\n",
              "    border-color: transparent;\n",
              "    border-bottom-color: var(--fill-color);\n",
              "    animation:\n",
              "      spin 1s steps(1) infinite;\n",
              "  }\n",
              "\n",
              "  @keyframes spin {\n",
              "    0% {\n",
              "      border-color: transparent;\n",
              "      border-bottom-color: var(--fill-color);\n",
              "      border-left-color: var(--fill-color);\n",
              "    }\n",
              "    20% {\n",
              "      border-color: transparent;\n",
              "      border-left-color: var(--fill-color);\n",
              "      border-top-color: var(--fill-color);\n",
              "    }\n",
              "    30% {\n",
              "      border-color: transparent;\n",
              "      border-left-color: var(--fill-color);\n",
              "      border-top-color: var(--fill-color);\n",
              "      border-right-color: var(--fill-color);\n",
              "    }\n",
              "    40% {\n",
              "      border-color: transparent;\n",
              "      border-right-color: var(--fill-color);\n",
              "      border-top-color: var(--fill-color);\n",
              "    }\n",
              "    60% {\n",
              "      border-color: transparent;\n",
              "      border-right-color: var(--fill-color);\n",
              "    }\n",
              "    80% {\n",
              "      border-color: transparent;\n",
              "      border-right-color: var(--fill-color);\n",
              "      border-bottom-color: var(--fill-color);\n",
              "    }\n",
              "    90% {\n",
              "      border-color: transparent;\n",
              "      border-bottom-color: var(--fill-color);\n",
              "    }\n",
              "  }\n",
              "</style>\n",
              "\n",
              "  <script>\n",
              "    async function quickchart(key) {\n",
              "      const quickchartButtonEl =\n",
              "        document.querySelector('#' + key + ' button');\n",
              "      quickchartButtonEl.disabled = true;  // To prevent multiple clicks.\n",
              "      quickchartButtonEl.classList.add('colab-df-spinner');\n",
              "      try {\n",
              "        const charts = await google.colab.kernel.invokeFunction(\n",
              "            'suggestCharts', [key], {});\n",
              "      } catch (error) {\n",
              "        console.error('Error during call to suggestCharts:', error);\n",
              "      }\n",
              "      quickchartButtonEl.classList.remove('colab-df-spinner');\n",
              "      quickchartButtonEl.classList.add('colab-df-quickchart-complete');\n",
              "    }\n",
              "    (() => {\n",
              "      let quickchartButtonEl =\n",
              "        document.querySelector('#df-13046d45-fc75-450b-a9c7-c75e6886efa0 button');\n",
              "      quickchartButtonEl.style.display =\n",
              "        google.colab.kernel.accessAllowed ? 'block' : 'none';\n",
              "    })();\n",
              "  </script>\n",
              "</div>\n",
              "\n",
              "    </div>\n",
              "  </div>\n"
            ]
          },
          "metadata": {},
          "execution_count": 23
        }
      ],
      "source": [
        "df1[df1.Age.isna()].head()"
      ]
    },
    {
      "cell_type": "markdown",
      "metadata": {
        "id": "iBtPxzIYaqfj"
      },
      "source": [
        "Let's see the statistics of the column **before** the imputation."
      ]
    },
    {
      "cell_type": "code",
      "execution_count": null,
      "metadata": {
        "id": "6bAcSvJnZ8tH",
        "colab": {
          "base_uri": "https://localhost:8080/"
        },
        "outputId": "80aa94c6-6705-4374-b09d-2e49e571bfba"
      },
      "outputs": [
        {
          "output_type": "execute_result",
          "data": {
            "text/plain": [
              "count    714.000000\n",
              "mean      29.699118\n",
              "std       14.526497\n",
              "min        0.420000\n",
              "25%       20.125000\n",
              "50%       28.000000\n",
              "75%       38.000000\n",
              "max       80.000000\n",
              "Name: Age, dtype: float64"
            ]
          },
          "metadata": {},
          "execution_count": 24
        }
      ],
      "source": [
        "df1.Age.describe()"
      ]
    },
    {
      "cell_type": "markdown",
      "metadata": {
        "id": "m_5jWdkGKmo6"
      },
      "source": [
        "Read about [`pandas.Series.fillna`](https://pandas.pydata.org/pandas-docs/stable/reference/api/pandas.Series.fillna.html?highlight=fillna#pandas.Series.fillna).  \n",
        " **(T5)** Replace the missing ages `df1` with the general age *median*, and insert the result into variable `filledDf` (the original `df1` should be left unchanged)."
      ]
    },
    {
      "cell_type": "code",
      "execution_count": null,
      "metadata": {
        "id": "V_JXxB-9I5OX"
      },
      "outputs": [],
      "source": [
        "filledDf = df1.fillna(df1.Age.median())"
      ]
    },
    {
      "cell_type": "code",
      "execution_count": null,
      "metadata": {
        "id": "uvoV8S1eKMtU",
        "colab": {
          "base_uri": "https://localhost:8080/"
        },
        "outputId": "739ec9bd-661c-4eb5-b17d-17404777d0d1"
      },
      "outputs": [
        {
          "output_type": "stream",
          "name": "stdout",
          "text": [
            "0 out of 891 passengers do not have a recorded age\n"
          ]
        }
      ],
      "source": [
        "print(\"{} out of {} passengers do not have a recorded age\".format(filledDf[filledDf.Age.isna()].shape[0], filledDf.shape[0]))"
      ]
    },
    {
      "cell_type": "markdown",
      "metadata": {
        "id": "5dBIJckKbFoz"
      },
      "source": [
        "Let's see the statistics of the column **after** the imputation."
      ]
    },
    {
      "cell_type": "code",
      "execution_count": null,
      "metadata": {
        "id": "7ruT3GwSbTLY",
        "colab": {
          "base_uri": "https://localhost:8080/"
        },
        "outputId": "deb7d712-8a8c-4899-984e-99db26439070"
      },
      "outputs": [
        {
          "output_type": "execute_result",
          "data": {
            "text/plain": [
              "count    891.000000\n",
              "mean      29.361582\n",
              "std       13.019697\n",
              "min        0.420000\n",
              "25%       22.000000\n",
              "50%       28.000000\n",
              "75%       35.000000\n",
              "max       80.000000\n",
              "Name: Age, dtype: float64"
            ]
          },
          "metadata": {},
          "execution_count": 27
        }
      ],
      "source": [
        "filledDf.Age.describe()"
      ]
    },
    {
      "cell_type": "markdown",
      "metadata": {
        "id": "1pQsWKpDezGi"
      },
      "source": [
        " **(T6)** Answer below: which statistics changed, and which did not? Why? (explain briefly, no need to be very formal.)"
      ]
    },
    {
      "cell_type": "markdown",
      "metadata": {
        "id": "yVOgSFVRe7cu"
      },
      "source": [
        "**Answer:**\n",
        "* Count, mean, std, 25% and 75% changed because we have added new data (which is equal to the median)\n",
        "* min and max are unchanged for that reason\n",
        "* 50% is unchanged because adding the median does not change it"
      ]
    },
    {
      "cell_type": "markdown",
      "metadata": {
        "id": "Op064-8s2aqW"
      },
      "source": [
        "## Plotting\n",
        "Basic plotting in pandas is pretty straightforward"
      ]
    },
    {
      "cell_type": "code",
      "execution_count": null,
      "metadata": {
        "id": "a8AONyPK2aqY",
        "colab": {
          "base_uri": "https://localhost:8080/",
          "height": 604
        },
        "outputId": "0f9d2ec0-6628-4a79-d9a6-be297924403f"
      },
      "outputs": [
        {
          "output_type": "display_data",
          "data": {
            "text/plain": [
              "<Figure size 1000x600 with 1 Axes>"
            ],
            "image/png": "[encoded data removed]"
          },
          "metadata": {}
        }
      ],
      "source": [
        "new_plot = pd.crosstab([train.Pclass, train.Sex], train.Survived, normalize=\"index\")\n",
        "new_plot.plot(kind='bar', stacked=True, grid=False, figsize=(10,6))\n",
        "plt.yticks(np.linspace(0,1,21))\n",
        "plt.grid()"
      ]
    },
    {
      "cell_type": "markdown",
      "metadata": {
        "id": "EwMXqkhpfN3d"
      },
      "source": [
        " **(T7)** Answer below: which group (class $\\times$ sex) had the best survival rate? Which had the worst?"
      ]
    },
    {
      "cell_type": "markdown",
      "metadata": {
        "id": "eEinRYOXfOrY"
      },
      "source": [
        "**Answer:** (3, female)"
      ]
    },
    {
      "cell_type": "markdown",
      "metadata": {
        "id": "uJGeuhhV2aqi"
      },
      "source": [
        "# What is Matplotlib\n",
        "\n",
        "A 2D plotting library which produces publication quality figures.\n",
        " - Can be used in python scripts, the python and IPython shell, web application servers, and more …\n",
        " - Can be used to generate plots, histograms, power spectra, bar charts, errorcharts, scatterplots, etc.\n",
        " - For simple plotting, pyplot provides a MATLAB-like interface\n",
        " - For power users, a full control via OO interface or via a set of functions\n",
        "\n",
        "There are several Matplotlib add-on toolkits\n",
        " - Projection and mapping toolkits [basemap](http://matplotlib.org/basemap/) and [cartopy](http://scitools.org.uk/cartopy/).\n",
        " - Interactive plots in web browsers using [Bokeh](http://bokeh.pydata.org/en/latest/).\n",
        " - Higher level interface with updated visualizations [Seaborn](http://seaborn.pydata.org/index.html).\n",
        "\n",
        "Matplotlib is available at [www.matplotlib.org](www.matplotlib.org)"
      ]
    },
    {
      "cell_type": "code",
      "execution_count": 9,
      "metadata": {
        "id": "Y0ixhvQS2aql"
      },
      "outputs": [],
      "source": [
        "import matplotlib.pyplot as plt\n",
        "import numpy as np"
      ]
    },
    {
      "cell_type": "markdown",
      "metadata": {
        "id": "JU4i6qIk2aqj"
      },
      "source": [
        "## Line Plots"
      ]
    },
    {
      "cell_type": "markdown",
      "metadata": {
        "id": "-2Bc8EAPS5ZR"
      },
      "source": [
        "The following code plots the survival rate per age group (computed above, before the imputation).\n",
        "\n",
        " **(T8)** Use the [matplotlib documentation](https://matplotlib.org/) to add a grid and suitable axis labels to the following plot."
      ]
    },
    {
      "cell_type": "code",
      "execution_count": null,
      "metadata": {
        "id": "cSCDtmYzSUmb",
        "colab": {
          "base_uri": "https://localhost:8080/",
          "height": 472
        },
        "outputId": "d5f6c121-ba8b-4c7b-9f57-7976a4a524c5"
      },
      "outputs": [
        {
          "output_type": "display_data",
          "data": {
            "text/plain": [
              "<Figure size 640x480 with 1 Axes>"
            ],
            "image/png": "[encoded data removed]"
          },
          "metadata": {}
        }
      ],
      "source": [
        "plt.plot(survivalPerAgeGroup.Age, survivalPerAgeGroup.Survived)\n",
        "_ = plt.title(\"Survival per age group\")\n",
        "plt.xlabel(\"Age Group\")\n",
        "plt.ylabel(\"Survival Rate\")\n",
        "plt.grid()"
      ]
    },
    {
      "cell_type": "code",
      "execution_count": null,
      "metadata": {
        "id": "Fg5nb_8Pw_1i"
      },
      "outputs": [],
      "source": [
        "survivalPerAgeGroup"
      ]
    },
    {
      "cell_type": "markdown",
      "metadata": {
        "id": "HOfPan8W2arb"
      },
      "source": [
        "\n",
        "## Scatter plots"
      ]
    },
    {
      "cell_type": "markdown",
      "metadata": {
        "id": "txMG5DT7U_nP"
      },
      "source": [
        " **(T9)** Alter the [matplotlib.pyplot.scatter](https://matplotlib.org/stable/api/_as_gen/matplotlib.pyplot.scatter.html) command, so that the scattered dots will be `green`, and their size will be `10`.\n",
        "\n",
        "Also, add a grid and suitable axis labels."
      ]
    },
    {
      "cell_type": "code",
      "execution_count": null,
      "metadata": {
        "id": "oMOAxO1aR-VX",
        "colab": {
          "base_uri": "https://localhost:8080/",
          "height": 559
        },
        "outputId": "a090f2ad-0d34-4988-e9df-71039cec5ce6"
      },
      "outputs": [
        {
          "output_type": "execute_result",
          "data": {
            "text/plain": [
              "Text(0, 0.5, 'Fare')"
            ]
          },
          "metadata": {},
          "execution_count": 36
        },
        {
          "output_type": "display_data",
          "data": {
            "text/plain": [
              "<Figure size 1000x600 with 1 Axes>"
            ],
            "image/png": "[encoded data removed]"
          },
          "metadata": {}
        }
      ],
      "source": [
        "plt.figure(figsize=(10,6))\n",
        "plt.scatter(train.Age, train.Fare, color=\"green\", linewidths=10)\n",
        "plt.grid()\n",
        "plt.xlabel(\"Age\")\n",
        "plt.ylabel(\"Fare\")"
      ]
    },
    {
      "cell_type": "markdown",
      "metadata": {
        "id": "Xd6iimntjGkF"
      },
      "source": [
        "**(T10)** Answer below: approximately how old are the two highest paying passengers?"
      ]
    },
    {
      "cell_type": "markdown",
      "metadata": {
        "id": "AMaNCCOu27uA"
      },
      "source": [
        "**Answer:** 35"
      ]
    },
    {
      "cell_type": "markdown",
      "metadata": {
        "id": "V_zTkaWys3GH"
      },
      "source": [
        "----\n",
        "\n",
        "# Probability refresher\n",
        "\n",
        "## Q1 - Variance of empirical mean\n",
        "\n",
        "Let $X_1, \\dots, X_m$ be i.i.d random variables with mean $\\mathbb{E}\\left[X_i\\right]=\\mu$ and variance $\\text{Var}\\left(X_i \\right)=\\sigma^2$.  \n",
        "We would like to \"guess\", or more formally, estimate (לְשַׁעֲרֵךְ), the mean $\\mu$ from the observations $x_1,\\dots,x_m$.  \n",
        "We use the empirical mean $\\overline{X} = \\frac{1}{m}\\sum_i X_i$ as an estimator for the unknown mean $\\mu$. Notice that $\\overline{X}$ is itself a random variable.  \n",
        "**Note:** The instantiation of  $\\overline{X}$ is usually denoted by $\\hat{\\mu}=\\frac{1}{m}\\sum_i x_i$, but this is currently out of scope.\n",
        "\n",
        "1.   Express analytically the expectation of $\\overline{X}$.  \n",
        "     **Answer**: $\\mathbb{E}\\left[\\overline{X} \\right]=\n",
        "     \\mathbb{E}\\left[\\frac{1}{m}\\sum_i X_i \\right]=\n",
        "     \\text{TODO}$.  \n",
        "     \n",
        "2.   Express analytically the variance of $\\overline{X}$.  \n",
        "     **Answer**: $\\text{Var}\\left[\\overline{X} \\right]=\n",
        "     \\text{TODO}$.\n",
        "\n",
        "You will now verify the expression you wrote for the variance.  \n",
        "We assume $\\forall i: X_i\\sim\\mathcal{N}\\left(0, 1\\right)$.  \n",
        "We compute the empirical mean's variances for sample sizes $m=1,\\dots,30$.  \n",
        "For each sample size $m$, we sample $m$ normal variables and compute their empirical mean. We repeat this step $50$ times, and compute the variance of the empirical means (for each $m$).\n",
        "\n",
        "3 .   Complete the code blocks below according to the instructions and verify that your analytic function of the empirical mean's variance against as a function of $m$ suits the empirical findings.\n"
      ]
    },
    {
      "cell_type": "code",
      "execution_count": 7,
      "metadata": {
        "id": "xiGAh0j-Ks0R"
      },
      "outputs": [],
      "source": [
        "all_sample_sizes = range(1, 31)\n",
        "repeats_per_size = 50\n",
        "\n",
        "allVariances = []\n",
        "\n",
        "for m in all_sample_sizes:\n",
        "    empiricalMeans = []\n",
        "\n",
        "    for _ in range(repeats_per_size):\n",
        "        # Random m examples and compute their empirical mean\n",
        "        X = np.random.randn(m)\n",
        "        empiricalMeans.append(np.mean(X))\n",
        "\n",
        "    variance = np.var(empiricalMeans)\n",
        "\n",
        "    allVariances.append(variance)"
      ]
    },
    {
      "cell_type": "markdown",
      "metadata": {
        "id": "lm3DEBs_VsqD"
      },
      "source": [
        "Complete the following computation of the anayltic variance (according to the your answers above).\n",
        "You can try to use simple arithmetic operations between an `np.array` and a scalar, and see what happens! (for instance, `2 * np.array(all_sample_sizes)`.)"
      ]
    },
    {
      "cell_type": "code",
      "execution_count": 11,
      "metadata": {
        "id": "5LuqLzIHN-6i"
      },
      "outputs": [],
      "source": [
        "analyticVariance = np.array(all_sample_sizes).astype(float) ** -1"
      ]
    },
    {
      "cell_type": "markdown",
      "metadata": {
        "id": "Ux0beQNZWHQL"
      },
      "source": [
        "The following code plots the results from the above code. **Do not** edit it, only run it and make sure that the figures make sense."
      ]
    },
    {
      "cell_type": "code",
      "execution_count": 12,
      "metadata": {
        "id": "1zM2cnVvL18Z",
        "outputId": "a648d8b4-2132-4f70-c510-065c62bb446d",
        "colab": {
          "base_uri": "https://localhost:8080/",
          "height": 512
        }
      },
      "outputs": [
        {
          "output_type": "display_data",
          "data": {
            "text/plain": [
              "<Figure size 1500x500 with 2 Axes>"
            ],
            "image/png": "[encoded data removed]"
          },
          "metadata": {}
        }
      ],
      "source": [
        "fig, axes = plt.subplots(1,2, figsize=(15,5))\n",
        "axes[0].plot(all_sample_sizes, analyticVariance, label=\"Analytic\", linewidth=4)\n",
        "axes[0].plot(all_sample_sizes, allVariances, label=\"Empiric\", linewidth=3)\n",
        "axes[0].grid()\n",
        "axes[0].legend(fontsize=14)\n",
        "axes[0].set_title(\"Regular scale\", fontsize=14)\n",
        "axes[0].set_xlabel(\"Sample size (m)\", fontsize=12)\n",
        "axes[0].set_ylabel(\"Variance\", fontsize=12)\n",
        "\n",
        "axes[1].semilogy(all_sample_sizes, analyticVariance, label=\"Analytic\", linewidth=4)\n",
        "axes[1].semilogy(all_sample_sizes, allVariances, label=\"Empiric\", linewidth=3)\n",
        "axes[1].grid()\n",
        "axes[1].legend(fontsize=14)\n",
        "axes[1].set_title(\"Log scale\", fontsize=14)\n",
        "axes[1].set_xlabel(\"Sample size (m)\", fontsize=12)\n",
        "axes[1].set_ylabel(\"Variance\", fontsize=12)\n",
        "\n",
        "_ = plt.suptitle(\"Empirical mean's variance vs. Sample size\",\n",
        "             fontsize=16, fontweight=\"bold\")\n",
        "\n",
        "plt.tight_layout()"
      ]
    },
    {
      "cell_type": "markdown",
      "metadata": {
        "id": "4e1sVgZXXwWu"
      },
      "source": [
        "----\n",
        "\n",
        "## Reminder - Hoeffding's Inequality\n",
        "Let $\\theta_1, \\dots, \\theta_m$ be i.i.d random variables with mean $\\mathbb{E}\\left[\\theta_i\\right]=\\mu$.\n",
        "\n",
        "Additionally, assume all variables are bound in $\\left[a,b\\right]$ such that $\\Pr\\left[a\\le \\theta_i \\le b\\right] = 1$.\n",
        "\n",
        "Then, for any $\\epsilon > 0$,\n",
        "the empirical mean\n",
        "$\\overline{\\theta}(m) = \\frac{1}{m}\\sum_i \\theta_i$\n",
        "holds:\n",
        "$$\\Pr\\left[\\left| \\overline{\\theta}(m) -\\mu \\right| > \\epsilon\\right]\n",
        "\\le\n",
        "2\\exp\\left\\{-\\frac{2m\\epsilon^2}{\\left(b-a\\right)^2}\\right\\}~.$$\n",
        "\n",
        "\n",
        "----\n",
        "\n",
        "\n",
        "## Q2 - Identical coins and the Hoeffding bound\n",
        "We toss $m\\in\\mathbb{N}$ identical coins, each coin $40$ times.  \n",
        "All coins have the same *unknown* probability of showing \"heads\", denoted by $𝑝 ∈ (0,1)$.  \n",
        "Let $\\theta_𝑖$ be the (observed) number of times the $i$-th coin showed \"heads\".  \n"
      ]
    },
    {
      "cell_type": "markdown",
      "metadata": {
        "id": "O7N-MbZP9D_-"
      },
      "source": [
        "1.   What is the distribution of each $\\theta_𝑖$?    \n",
        "     **Answer:** $ \\theta_i \\sim \\text{TODO}$.\n",
        "  \n",
        "2.   What is the mean $\\mu = \\mathbb{E}\\left[\\theta_𝑖\\right]$?  \n",
        "  **Answer:** $ \\mathbb{E}\\left[\\theta_𝑖\\right] = \\text{TODO}$.\n",
        "  \n",
        "3.   We would like to use the empirical mean defined above as an estimator $\\overline{\\theta}(m)$ for $\\mu$.  \n",
        "Use Hoeffding’s inequality to compute the *smallest* error $\\epsilon$\n",
        "that can guaranteed given a sample size $m=20$ with\n",
        "confidence $0.95$\n",
        "(notice that we wish to estimate $\\mu$, not $p$).  \n",
        "That is, find the smallest $\\epsilon$ that holds\n",
        "$\\Pr\\left[\\left| \\overline{\\theta}(20)-\\mu \\right| > \\epsilon \\right] \\le 0.05$.  \n",
        "   **Answer:**  \n",
        "   TODO"
      ]
    },
    {
      "cell_type": "markdown",
      "metadata": {
        "id": "7iKJfOKkk5wC"
      },
      "source": [
        "4 . The following code simulates tossing $m=10^4$ coins, each $50$ times.\n",
        "For each coin, we use the empirical mean as the estimator and save it in the `all_estimators` array. The (unknown) probability of each coin is $0.75$.  \n",
        "Complete the missing part so that for each coin, an array of $50$ binary `observations` will be randomized according to the probability $p$."
      ]
    },
    {
      "cell_type": "code",
      "execution_count": null,
      "metadata": {
        "id": "7dTNn2yabsI8"
      },
      "outputs": [],
      "source": [
        "m = 10**4\n",
        "tosses = 50\n",
        "p = 0.75\n",
        "all_estimators = []\n",
        "\n",
        "# Repeat for n coins\n",
        "for coin in range(m):\n",
        "    # TODO: Use Google to find a suitable numpy.random function that creates\n",
        "    # a binary array of size (tosses,), where each element is 1\n",
        "    # with probability p, and 0 with probability (1-p).\n",
        "    observations = None\n",
        "\n",
        "    # Compute and save the empirical mean\n",
        "    estimator = np.mean(observations)\n",
        "    all_estimators.append(estimator)"
      ]
    },
    {
      "cell_type": "markdown",
      "metadata": {
        "id": "x5zNKioX7Jsm"
      },
      "source": [
        "5 .  The following code plots the histogram of the estimators (empirical means). Run it. What type of distribution is obtained (no need to specify the exact paramters of the distribution)? Explain **briefly** what theorem from probability explains this behavior (and why).  \n",
        "\n",
        "  **Answer:** TODO"
      ]
    },
    {
      "cell_type": "code",
      "execution_count": null,
      "metadata": {
        "id": "TfZb4dbFb7mN"
      },
      "outputs": [],
      "source": [
        "import seaborn as sns\n",
        "sns.histplot(all_estimators, bins=tosses, kde=True)\n",
        "plt.grid()"
      ]
    },
    {
      "cell_type": "markdown",
      "metadata": {
        "id": "D3y1WBQL-egt"
      },
      "source": [
        "----\n",
        "# Numerical linear algebera refresher\n",
        "\n",
        "## Reminder - Positive semi-definite matrices\n",
        "\n",
        "A symmetric real matrix $A\\in\\mathbb{R}^{n \\times n}$ is called positive semi-definite (PSD) iff:\n",
        "$$\\forall x\\in\\mathbb{R}^n \\setminus{\\left\\{0_n\\right\\}}: x^\\top A x \\ge 0.$$\n",
        "If the matrix holds the above inequality *strictly*, the matrix is called positive definite (PD).\n",
        "\n",
        "## Q3 - PSD matrices\n",
        "1. Let $A\\succeq\\mathbf{0}_{n \\times n}$ be a symmetric PSD matrix in $\\mathbb{R}^{n\\times n}$.  \n",
        "Recall that all eigenvalues of real symmetric matrices are real.  \n",
        "Prove that all the eigenvalues of $A$ are non-negative.  \n",
        "  **Answer:** In attached PDF\n",
        "  \n",
        "    ---\n",
        "\n",
        "2. Let $A\\in\\mathbb{R}^{n \\times n}$ be a symmetric PSD matrix and $B\\in\\mathbb{R}^{n \\times n}$ a square matrix.  \n",
        "What can be said about the symmetric matrix $(B^\\top A B)$? Specifically,  is it necessarily PSD? is it necessarily PD? Explain.  \n",
        "  **Answer:**  In attached PDF"
      ]
    },
    {
      "cell_type": "markdown",
      "metadata": {
        "id": "rAVuS_XTQQjz"
      },
      "source": [
        "## Q4 - Gradients\n",
        "\n",
        "Define $f:\\mathbb{R}^{d}\\to\\mathbb{R}$, where $f(w)=w^\\top x + b$, for some given vector $x\\in\\mathbb{R}^{d}$ and a scalar $b\\in\\mathbb{R}$.\n",
        "\n",
        "Recall: the gradient vector is defined as\n",
        "$\\nabla_w f=\\left[\\frac{\\partial f}{\\partial w_1},\\dots,\\frac{\\partial f}{\\partial w_d}\\right]^\\top \\in \\mathbb{R}^d$.\n",
        "1. Prove that $\\nabla_w f = x$.\n",
        "\n",
        "Recall/read the definition of the [Hessian matrix](https://en.wikipedia.org/wiki/Hessian_matrix#Definitions_and_properties) $\\nabla_w^2 f \\in \\mathbb{R}^{d\\times d}$.  \n",
        "2 . Find the Hessian matrix $\\nabla_w^2 f$ of the function $f$ defined in this question.  \n",
        "3 . Is the matrix you found positive semi-definite? Explain.  \n",
        "\n",
        "Now, define $g:\\mathbb{R}^{d}\\to\\mathbb{R}$,\n",
        "where $\\lambda>0$ and $g(w)=\\frac{1}{2}\\lambda\\left\\Vert w \\right\\Vert^2$.\n",
        "\n",
        "4 . Find the gradient vector $\\nabla_w g$.  \n",
        "5 . Find the Hessian matrix $\\nabla_w^2 g$.  \n",
        "6 . Is the matrix you found positive semi-definite? is it positive definite? Explain."
      ]
    },
    {
      "cell_type": "markdown",
      "metadata": {
        "id": "ZIrPlqqVUspr"
      },
      "source": [
        "**Answers:**\n",
        "\n",
        "TODO"
      ]
    },
    {
      "cell_type": "code",
      "execution_count": null,
      "metadata": {
        "id": "ZtVqhp5J0UKk"
      },
      "outputs": [],
      "source": []
    }
  ],
  "metadata": {
    "colab": {
      "provenance": [],
      "include_colab_link": true
    },
    "kernelspec": {
      "display_name": "Python 3 (ipykernel)",
      "language": "python",
      "name": "python3"
    },
    "language_info": {
      "codemirror_mode": {
        "name": "ipython",
        "version": 3
      },
      "file_extension": ".py",
      "mimetype": "text/x-python",
      "name": "python",
      "nbconvert_exporter": "python",
      "pygments_lexer": "ipython3",
      "version": "3.11.5"
    }
  },
  "nbformat": 4,
  "nbformat_minor": 0
}